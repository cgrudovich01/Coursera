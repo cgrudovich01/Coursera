{
 "cells": [
  {
   "cell_type": "markdown",
   "id": "cc9f330e-ce78-4e2e-aaf7-bbcb31ba0f17",
   "metadata": {},
   "source": [
    "# Data Science Tools and Ecosystem"
   ]
  },
  {
   "cell_type": "markdown",
   "id": "9ca7f395-e3ab-49ed-a65f-70fb6e634652",
   "metadata": {},
   "source": [
    "## In this notebook, Data Science Tools and Ecosystem are summarized."
   ]
  },
  {
   "cell_type": "markdown",
   "id": "7d5b5a84-6374-477a-b8c7-d3ee13d85bc3",
   "metadata": {},
   "source": [
    "__Objectives:__ \n",
    "* List popular languages in data science\n",
    "* List commonly used libraries used by data scientists\n",
    "* introduce yourself to jupyternotebook\n",
    "* Understanding GitHub"
   ]
  },
  {
   "cell_type": "markdown",
   "id": "83fbd0bd-9624-4abc-8026-2c2ff785602b",
   "metadata": {
    "jp-MarkdownHeadingCollapsed": true
   },
   "source": [
    "#### Some of the popular languages that Data Scientists use are:\n",
    "##### 1.R\n",
    "##### 2.Python\n",
    "##### 3.Scala"
   ]
  },
  {
   "cell_type": "markdown",
   "id": "19bbb7e9-dce1-4c7f-83fe-bf632606bf5b",
   "metadata": {},
   "source": [
    "#### Some of the commonly used libraries used by Data Scientists include:\n",
    "##### 1.Numpy\n",
    "##### 2.Matplotlib\n",
    "##### 3.Pandas"
   ]
  },
  {
   "cell_type": "markdown",
   "id": "2b3b1388-84b5-4a67-a70e-67b4c82abcfe",
   "metadata": {},
   "source": [
    "##\n",
    "|Data Science Tools|\n",
    "|------------------|\n",
    "|Apache Spark|\n",
    "|TensorFlow|\n",
    "|RStudio|"
   ]
  },
  {
   "cell_type": "markdown",
   "id": "6cbffe57-43dd-423b-ba1e-87c147801fea",
   "metadata": {},
   "source": [
    "### Below are a few examples of evaluating arithmetic expressions in Python."
   ]
  },
  {
   "cell_type": "code",
   "execution_count": 17,
   "id": "f5376a67-1386-43b9-84bb-8f89a0e3f659",
   "metadata": {},
   "outputs": [
    {
     "data": {
      "text/plain": [
       "17"
      ]
     },
     "execution_count": 17,
     "metadata": {},
     "output_type": "execute_result"
    }
   ],
   "source": [
    "(3*4)+5\n",
    "# This a simple arithmetic expression to mutiply then add integers"
   ]
  },
  {
   "cell_type": "code",
   "execution_count": 19,
   "id": "8c363861-8ff1-476d-9206-c995640bd05a",
   "metadata": {},
   "outputs": [
    {
     "data": {
      "text/plain": [
       "3.3333333333333335"
      ]
     },
     "execution_count": 19,
     "metadata": {},
     "output_type": "execute_result"
    }
   ],
   "source": [
    "200/60\n",
    "# Insert a comment line before the expression to explain the operation e.g. This will convert 200 minutes to hours by diving by 60."
   ]
  },
  {
   "cell_type": "code",
   "execution_count": null,
   "id": "a7168622-ec38-45c9-a8fd-02a061756ddd",
   "metadata": {},
   "outputs": [],
   "source": []
  }
 ],
 "metadata": {
  "kernelspec": {
   "display_name": "Python 3 (ipykernel)",
   "language": "python",
   "name": "python3"
  },
  "language_info": {
   "codemirror_mode": {
    "name": "ipython",
    "version": 3
   },
   "file_extension": ".py",
   "mimetype": "text/x-python",
   "name": "python",
   "nbconvert_exporter": "python",
   "pygments_lexer": "ipython3",
   "version": "3.12.4"
  }
 },
 "nbformat": 4,
 "nbformat_minor": 5
}
